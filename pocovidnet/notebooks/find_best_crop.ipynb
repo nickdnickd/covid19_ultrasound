{
 "cells": [
  {
   "cell_type": "code",
   "execution_count": 1,
   "metadata": {},
   "outputs": [],
   "source": [
    "import cv2\n",
    "import os\n",
    "import json\n",
    "import matplotlib.pylab as plt"
   ]
  },
  {
   "cell_type": "code",
   "execution_count": 2,
   "metadata": {},
   "outputs": [],
   "source": [
    "def read_first_frame(fp):\n",
    "    cap = cv2.VideoCapture(fp)\n",
    "    ret, cropped = cap.read()\n",
    "    if cropped is None:\n",
    "        cap = cv2.VideoCapture(\".\".join(fp.split(\".\")[:-1]) + \".mp4\")\n",
    "        ret, cropped = cap.read()\n",
    "        print(\"changed to mp4\")\n",
    "    return cropped, cap"
   ]
  },
  {
   "cell_type": "code",
   "execution_count": null,
   "metadata": {},
   "outputs": [],
   "source": [
    "path = \"../../data/soft_tissue_study\"\n",
    "class_folders = [\n",
    "    \"Abscess/AbscessVideos\", \"Cellulitis/CellulitisVideos\", \"Normal/NormalVideos\",\n",
    "]\n",
    "crop_output_file = \"../../data/crop.json\"\n",
    "# To access properties of a VideoCapture in openCV, we use an enum referenced  here\n",
    "# https://docs.opencv.org/3.4/d4/d15/group__videoio__flags__base.html#gaeb8dd9c89c10a5c63c139bf7c4f5704d\n",
    "CAP_PROP_FRAME_COUNT = 7\n",
    "\n",
    "\n",
    "with open(crop_output_file, \"r\") as infile:\n",
    "    crop_dir = json.load(infile)\n",
    "\n",
    "try:\n",
    "    for folder in class_folders:\n",
    "        for filename in os.listdir(os.path.join(path, folder)):\n",
    "            print(filename)\n",
    "            if os.path.join(folder, filename) in crop_dir.keys():\n",
    "                print(\"already done\")\n",
    "                continue\n",
    "            if filename[0] == \".\":\n",
    "                continue\n",
    "\n",
    "            print(os.path.exists(os.path.join(path, folder, filename)))\n",
    "            cap = cv2.VideoCapture(os.path.join(path, folder, filename))\n",
    "            ret, frame = cap.read()\n",
    "            print(ret)\n",
    "\n",
    "            x, y, _ = frame.shape\n",
    "            min_shape = max([x, y])\n",
    "            crop = [0, 0, min_shape]\n",
    "            while True:\n",
    "                bottom, left, size = crop\n",
    "                plt.imshow(frame[bottom:bottom + size, left:left + size])\n",
    "                plt.show()\n",
    "                crop_in = input(\"okay?\")\n",
    "                if crop_in == 1 or crop_in == \"1\":\n",
    "                    crop_dir[os.path.join(folder,\n",
    "                                        filename)] = [crop, [0, cap.get(CAP_PROP_FRAME_COUNT)]]\n",
    "                    break\n",
    "                if crop_in == \"0\":\n",
    "                    ret, frame = cap.read()\n",
    "                else:\n",
    "                    crop_in = input(\"input list \" + str(crop))\n",
    "                    print(crop_in)\n",
    "                    crop = eval(crop_in)\n",
    "                    print(crop)\n",
    "\n",
    "except SyntaxError:\n",
    "    print(\"invalid input, stopping here but will attempt to preserve the already entered crops\")\n",
    "                \n",
    "\n",
    "with open(crop_output_file, \"w\") as infile:\n",
    "    json.dump(crop_dir, infile)"
   ]
  }
 ],
 "metadata": {
  "kernelspec": {
   "display_name": "Python 3",
   "language": "python",
   "name": "python3"
  },
  "language_info": {
   "codemirror_mode": {
    "name": "ipython",
    "version": 3
   },
   "file_extension": ".py",
   "mimetype": "text/x-python",
   "name": "python",
   "nbconvert_exporter": "python",
   "pygments_lexer": "ipython3",
   "version": "3.9.12"
  },
  "orig_nbformat": 2
 },
 "nbformat": 4,
 "nbformat_minor": 2
}
